{
 "cells": [
  {
   "cell_type": "code",
   "execution_count": 35,
   "id": "91b84940b273708d",
   "metadata": {
    "ExecuteTime": {
     "end_time": "2024-03-27T07:31:26.360494Z",
     "start_time": "2024-03-27T07:31:26.355993Z"
    },
    "collapsed": false
   },
   "outputs": [],
   "source": [
    "from dotenv import load_dotenv\n",
    "from langchain.chat_models import ChatOpenAI\n",
    "from langchain.memory import ConversationSummaryBufferMemory\n",
    "from langchain.document_loaders import UnstructuredFileLoader\n",
    "from langchain.text_splitter import CharacterTextSplitter\n",
    "from langchain.embeddings import OpenAIEmbeddings, CacheBackedEmbeddings\n",
    "from langchain.vectorstores import FAISS\n",
    "from langchain.storage import LocalFileStore\n",
    "from langchain.prompts import ChatPromptTemplate\n",
    "from langchain.schema.runnable import RunnablePassthrough, RunnableLambda\n",
    "\n",
    "\n",
    "load_dotenv()\n",
    "\n",
    "llm = ChatOpenAI(\n",
    "    model_name=\"gpt-4-turbo-preview\",\n",
    "    temperature=0.1,\n",
    ")\n",
    "\n",
    "memory = ConversationSummaryBufferMemory(\n",
    "    llm=llm,\n",
    "    max_token_limit=120,\n",
    "    return_messages=True,\n",
    ")"
   ]
  },
  {
   "cell_type": "code",
   "execution_count": 36,
   "id": "767ebb40",
   "metadata": {},
   "outputs": [
    {
     "data": {
      "text/plain": [
       "AIMessage(content='1. Aaronson이 유죄인지 여부에 대한 직접적인 언급은 없습니다. 그러나 문서에서는 \"Oceania was at war with Eastasia. Oceania had always been at war with Eastasia. Jones, Aaronson, and Rutherford were guilty of the crimes they were charged with.\"라고 언급되어 있습니다. 이는 파티의 공식 입장을 반영한 것일 수 있으나, 실제로 그들이 유죄인지, 아니면 파티가 조작한 것인지는 의심스러운 부분입니다. 특히, \"He had never seen the photograph that disproved their guilt. It had never existed, he had invented it.\"라는 부분에서는 실제 증거의 존재 여부에 대한 의문이 제기됩니다.\\n\\n2. 테이블에 쓴 메시지는 \"2+2=5\"입니다. 이는 파티의 권력과 이데올로기를 수용하고, 객관적인 진실보다는 파티가 정의하는 \\'진실\\'을 받아들이는 것을 상징합니다.\\n\\n3. Julia는 문서에서 Winston과 관계를 맺는 여성입니다. 그녀는 Winston과 같이 반체제적인 생각을 가지고 있으며, 둘은 함께 파티의 규칙과 사회적 규범에 도전합니다. 그러나 나중에 둘 다 체포되어 고문을 받으며, 서로를 배신하게 됩니다. Julia에 대한 언급은 \"He had seen her; he had even spoken to her. There was no danger in it. He knew as though instinctively that they now took almost no interest in his doings.\"와 같이 그들의 관계가 파티에 의해 파괴되었음을 보여줍니다.')"
      ]
     },
     "execution_count": 36,
     "metadata": {},
     "output_type": "execute_result"
    }
   ],
   "source": [
    "cache_dir = LocalFileStore(\"./.cache/\")\n",
    "\n",
    "splitter = CharacterTextSplitter.from_tiktoken_encoder(\n",
    "    separator=\"\\n\",\n",
    "    chunk_size=3000,\n",
    "    chunk_overlap=100,\n",
    ")\n",
    "\n",
    "\n",
    "loader = UnstructuredFileLoader(\"./files/document.txt\")\n",
    "\n",
    "docs = loader.load_and_split(text_splitter=splitter)\n",
    "\n",
    "\n",
    "embeddings = OpenAIEmbeddings()\n",
    "\n",
    "cached_embeddings = CacheBackedEmbeddings.from_bytes_store(embeddings, cache_dir)\n",
    "\n",
    "vectorstore = FAISS.from_documents(docs, cached_embeddings)\n",
    "\n",
    "retriver = vectorstore.as_retriever()\n",
    "\n",
    "prompt = ChatPromptTemplate.from_messages(\n",
    "    [\n",
    "        (\n",
    "            \"system\",\n",
    "            \"You are a helpful assistant. Answer questions using only the following context. If you don't know the answer just say you don't know, don't make it up:\\n\\n{context}\",\n",
    "        ),\n",
    "        (\"human\", \"{question}\"),\n",
    "    ]\n",
    ")\n",
    "\n",
    "chain = (\n",
    "    {\n",
    "        \"context\": retriver,\n",
    "        \"question\": RunnablePassthrough(),\n",
    "    }\n",
    "    | prompt\n",
    "    | llm\n",
    ")\n",
    "\n",
    "\n",
    "chain.invoke(\n",
    "    \"\"\"\n",
    "    3가지 질문에 대해 대답해줘\n",
    "        1. Aaronson 은 유죄인가요? 의심가는 부분은 무엇인가요?\n",
    "        2. 그가 테이블에 어떤 메시지를 썼나요?\n",
    "        3. Julia 는 누구인가요?\n",
    "    \"\"\"\n",
    ")"
   ]
  }
 ],
 "metadata": {
  "kernelspec": {
   "display_name": "Python 3",
   "language": "python",
   "name": "python3"
  },
  "language_info": {
   "codemirror_mode": {
    "name": "ipython",
    "version": 3
   },
   "file_extension": ".py",
   "mimetype": "text/x-python",
   "name": "python",
   "nbconvert_exporter": "python",
   "pygments_lexer": "ipython3",
   "version": "3.11.8"
  }
 },
 "nbformat": 4,
 "nbformat_minor": 5
}
