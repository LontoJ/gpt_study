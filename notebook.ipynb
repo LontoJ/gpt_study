{
 "cells": [
  {
   "cell_type": "code",
   "outputs": [],
   "source": [
    "from dotenv import load_dotenv\n",
    "from langchain.chat_models import ChatOpenAI\n",
    "from langchain.prompts import ChatPromptTemplate, FewShotChatMessagePromptTemplate\n",
    "\n",
    "load_dotenv()\n",
    "\n",
    "chat = ChatOpenAI(model_name=\"gpt-4-turbo-preview\",\n",
    "                  temperature=0.1,\n",
    "                  # streaming=True,\n",
    "                  # callbacks=[\n",
    "                  #     StreamingStdOutCallbackHandler(),\n",
    "                  # ],\n",
    "                  )\n",
    "\n",
    "\n",
    "\n"
   ],
   "metadata": {
    "collapsed": false,
    "ExecuteTime": {
     "end_time": "2024-03-26T09:47:42.525138Z",
     "start_time": "2024-03-26T09:47:42.521877Z"
    }
   },
   "id": "91b84940b273708d",
   "execution_count": 7
  },
  {
   "cell_type": "code",
   "outputs": [
    {
     "name": "stdout",
     "output_type": "stream",
     "text": [
      "\n",
      "        감독: 프란시스 포드 코폴라\n",
      "        주요 출연진: 마론 브란도, 알 파치노, 제임스 칸, 로버트 듀발, 다이앤 키튼 외\n",
      "        예산: 600만 달러\n",
      "        흥행 수익: 2억 4,600만 달러\n",
      "        장르: 범죄, 드라마\n",
      "        시놉시스: 이탈리아계 미국인 마피아 가문의 이야기를 그린 영화로, 가문의 수장인 돈 코를레오네가 가족의 명예와 권력을 지키기 위해 싸우는 모습을 그린다.\n"
     ]
    }
   ],
   "source": [
    "examples = [\n",
    "    {\n",
    "        \"movie_name\": \"기생충\",\n",
    "        \"answer\": \"\"\"\n",
    "        감독: 봉준호\n",
    "        주요 출연진: 송강호, 이선균, 조여정, 최우식, 박소담, 장혜진, 이정은 외\n",
    "        예산: 1,100만 달러\n",
    "        흥행 수익: 2억 6,200만 달러\n",
    "        장르: 드라마, 스릴러, 블랙 코미디, 서스펜스, 범죄, 느와르, 가족, 피카레스크\n",
    "        시놉시스: \"폐 끼치고 싶진 않았어요.\"\n",
    "                전원백수로 살 길 막막하지만 사이는 좋은 기택(송강호) 가족.\n",
    "                장남 기우(최우식)에게 명문대생 친구 민혁(박서준)이 연결시켜준 고액 과외 자리는 모처럼 싹튼 고정수입의 희망이다.\n",
    "                온 가족의 도움과 기대 속에 박 사장(이선균) 집으로 향하는 기우.\n",
    "                글로벌 IT 기업 CEO인 박 사장의 저택에 도착하자 젊고 아름다운 사모님 연교(조여정)가 기우를 맞이한다.\n",
    "\n",
    "                그러나 이렇게 시작된 두 가족의 만남 뒤로, 걷잡을 수 없는 사건이 기다리고 있었으니…\n",
    "        \"\"\",\n",
    "    },\n",
    "    {\n",
    "        \"movie_name\": \"오펜하이머\",\n",
    "        \"answer\": \"\"\"\n",
    "        감독: 크리스토퍼 놀란\n",
    "        주요 출연진: 킬라언 머피, 에밀리 블런트, 멧 데이먼, 로버트 다우니 주니어, 플로렌스 퓨\n",
    "        예산: 1억 8,000만 달러\n",
    "        흥행 수익: 9억 5,300만 달러\n",
    "        장르: 전기, 전쟁, 드라마, 정치, 시대극\n",
    "        시놉시스: \"나는 이제 죽음이요, 세상의 파괴자가 되었다.\"\n",
    "                세상을 구하기 위해 세상을 파괴할지도 모르는 선택을 해야 하는 천재 과학자의 핵 개발 프로젝트.\n",
    "        \"\"\",\n",
    "    },\n",
    "    {\n",
    "        \"movie_name\": \"모비우스\",\n",
    "        \"answer\": \"\"\"\n",
    "        감독: 다니엘 에스피노사\n",
    "        주요 출연진: 자레드 레토, 아드리아 아르호나, 맷 스미스, 타이리스 깁슨, 마이클 키튼 외\n",
    "        예산: 7,500만 달러\n",
    "        흥행 수익: 1억 6,700만 달러\n",
    "        장르: 액션, 어드벤처, SF, 호러, 미스터리, 스릴러, 드라마\n",
    "        시놉시스: 자신의 희귀한 혈액병을 치료하기 위한 연구에 전념하던 마이클 모비우스는 흡혈박쥐에 물린 후 초인적인 힘과 함께 끊임없이 피를 갈망하는 뱀파이어로 변하게 된다.\n",
    "        \"\"\",\n",
    "    },\n",
    "]\n",
    "\n",
    "example_prompt = ChatPromptTemplate.from_messages(\n",
    "    [\n",
    "        (\"human\", \"What do you know about {movie_name}?\"),\n",
    "        (\"ai\", \"{answer}\"),\n",
    "    ]\n",
    ")\n",
    "\n",
    "example_prompt = FewShotChatMessagePromptTemplate(\n",
    "    example_prompt=example_prompt,\n",
    "    examples=examples,\n",
    ")\n",
    "\n",
    "final_prompt = ChatPromptTemplate.from_messages(\n",
    "    [\n",
    "        (\"system\",\n",
    "         \"You are the world's most accurate movie information expert. You only give short answers and always in Korean.\"),\n",
    "        example_prompt,\n",
    "        (\"human\", \"What do you know about {movie_name}?\"),\n",
    "    ]\n",
    ")\n",
    "\n",
    "chain = final_prompt | chat\n",
    "\n",
    "result = chain.invoke({\"movie_name\": \"대부\"})\n",
    "\n",
    "print(result.content)"
   ],
   "metadata": {
    "collapsed": false,
    "ExecuteTime": {
     "end_time": "2024-03-26T09:47:57.349233Z",
     "start_time": "2024-03-26T09:47:42.566050Z"
    }
   },
   "id": "9deeca2b645062",
   "execution_count": 8
  }
 ],
 "metadata": {
  "kernelspec": {
   "display_name": "Python 3",
   "language": "python",
   "name": "python3"
  },
  "language_info": {
   "codemirror_mode": {
    "name": "ipython",
    "version": 2
   },
   "file_extension": ".py",
   "mimetype": "text/x-python",
   "name": "python",
   "nbconvert_exporter": "python",
   "pygments_lexer": "ipython2",
   "version": "2.7.6"
  }
 },
 "nbformat": 4,
 "nbformat_minor": 5
}
